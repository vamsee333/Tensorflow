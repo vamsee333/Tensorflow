{
 "cells": [
  {
   "cell_type": "markdown",
   "metadata": {},
   "source": [
    "# Tensorflow classifier model with titanic dataset"
   ]
  },
  {
   "cell_type": "code",
   "execution_count": 90,
   "metadata": {},
   "outputs": [],
   "source": [
    "import pandas as pd\n",
    "import numpy as np\n",
    "import seaborn as sns\n",
    "import matplotlib.pyplot as plt"
   ]
  },
  {
   "cell_type": "code",
   "execution_count": 17,
   "metadata": {},
   "outputs": [],
   "source": [
    "dttrain = pd.read_csv(\"https://storage.googleapis.com/tf-datasets/titanic/train.csv\")\n",
    "dteval = pd.read_csv(\"https://storage.googleapis.com/tf-datasets/titanic/eval.csv\")"
   ]
  },
  {
   "cell_type": "code",
   "execution_count": 18,
   "metadata": {},
   "outputs": [
    {
     "data": {
      "text/plain": [
       "Index(['survived', 'sex', 'age', 'n_siblings_spouses', 'parch', 'fare',\n",
       "       'class', 'deck', 'embark_town', 'alone'],\n",
       "      dtype='object')"
      ]
     },
     "execution_count": 18,
     "metadata": {},
     "output_type": "execute_result"
    }
   ],
   "source": [
    "dttrain.columns"
   ]
  },
  {
   "cell_type": "code",
   "execution_count": 16,
   "metadata": {},
   "outputs": [
    {
     "data": {
      "text/plain": [
       "Index(['survived', 'sex', 'age', 'n_siblings_spouses', 'parch', 'fare',\n",
       "       'class', 'deck', 'embark_town', 'alone'],\n",
       "      dtype='object')"
      ]
     },
     "execution_count": 16,
     "metadata": {},
     "output_type": "execute_result"
    }
   ],
   "source": [
    "dteval.columns"
   ]
  },
  {
   "cell_type": "code",
   "execution_count": 19,
   "metadata": {},
   "outputs": [],
   "source": [
    "Y_train= dttrain.pop(\"survived\")\n",
    "Y_eval = dteval.pop(\"survived\")"
   ]
  },
  {
   "cell_type": "code",
   "execution_count": 21,
   "metadata": {},
   "outputs": [
    {
     "name": "stdout",
     "output_type": "stream",
     "text": [
      "<class 'pandas.core.frame.DataFrame'>\n",
      "RangeIndex: 627 entries, 0 to 626\n",
      "Data columns (total 9 columns):\n",
      " #   Column              Non-Null Count  Dtype  \n",
      "---  ------              --------------  -----  \n",
      " 0   sex                 627 non-null    object \n",
      " 1   age                 627 non-null    float64\n",
      " 2   n_siblings_spouses  627 non-null    int64  \n",
      " 3   parch               627 non-null    int64  \n",
      " 4   fare                627 non-null    float64\n",
      " 5   class               627 non-null    object \n",
      " 6   deck                627 non-null    object \n",
      " 7   embark_town         627 non-null    object \n",
      " 8   alone               627 non-null    object \n",
      "dtypes: float64(2), int64(2), object(5)\n",
      "memory usage: 44.2+ KB\n"
     ]
    }
   ],
   "source": [
    "dttrain.info()"
   ]
  },
  {
   "cell_type": "code",
   "execution_count": 42,
   "metadata": {},
   "outputs": [],
   "source": [
    "cat_features = [\"sex\",\"embark_town\",\"class\",\"deck\",\"alone\",'n_siblings_spouses','parch']\n",
    "num_features = ['age',\"fare\"]"
   ]
  },
  {
   "cell_type": "code",
   "execution_count": 24,
   "metadata": {},
   "outputs": [
    {
     "data": {
      "text/plain": [
       "<AxesSubplot:>"
      ]
     },
     "execution_count": 24,
     "metadata": {},
     "output_type": "execute_result"
    },
    {
     "data": {
      "image/png": "[encoded data removed]",
      "text/plain": [
       "<Figure size 432x288 with 1 Axes>"
      ]
     },
     "metadata": {
      "needs_background": "light"
     },
     "output_type": "display_data"
    }
   ],
   "source": [
    "## analysis \n",
    "\n",
    "dttrain.age.hist(bins=20)"
   ]
  },
  {
   "cell_type": "code",
   "execution_count": 29,
   "metadata": {},
   "outputs": [
    {
     "data": {
      "text/plain": [
       "<AxesSubplot:>"
      ]
     },
     "execution_count": 29,
     "metadata": {},
     "output_type": "execute_result"
    },
    {
     "data": {
      "image/png": "[encoded data removed]",
      "text/plain": [
       "<Figure size 432x288 with 1 Axes>"
      ]
     },
     "metadata": {
      "needs_background": "light"
     },
     "output_type": "display_data"
    }
   ],
   "source": [
    "dttrain.sex.value_counts().plot(kind=\"bar\")"
   ]
  },
  {
   "cell_type": "code",
   "execution_count": 35,
   "metadata": {},
   "outputs": [
    {
     "data": {
      "text/plain": [
       "<AxesSubplot:>"
      ]
     },
     "execution_count": 35,
     "metadata": {},
     "output_type": "execute_result"
    },
    {
     "data": {
      "image/png": "[encoded data removed]",
      "text/plain": [
       "<Figure size 432x288 with 1 Axes>"
      ]
     },
     "metadata": {
      "needs_background": "light"
     },
     "output_type": "display_data"
    }
   ],
   "source": [
    "dttrain[dttrain[\"alone\"]=='y'][\"sex\"].value_counts().plot(kind='bar')"
   ]
  },
  {
   "cell_type": "code",
   "execution_count": 41,
   "metadata": {},
   "outputs": [
    {
     "data": {
      "text/plain": [
       "<AxesSubplot:xlabel='sex,survived'>"
      ]
     },
     "execution_count": 41,
     "metadata": {},
     "output_type": "execute_result"
    },
    {
     "data": {
      "image/png": "[encoded data removed]",
      "text/plain": [
       "<Figure size 432x288 with 1 Axes>"
      ]
     },
     "metadata": {
      "needs_background": "light"
     },
     "output_type": "display_data"
    }
   ],
   "source": [
    "## combining two differents data frames \n",
    "\n",
    "pd.concat([dttrain,Y_train], axis=1).groupby(\"sex\").survived.value_counts().plot(kind='bar')"
   ]
  },
  {
   "cell_type": "markdown",
   "metadata": {},
   "source": [
    "## creating a feature column using tensorflow\n",
    "\n",
    "\n"
   ]
  },
  {
   "cell_type": "code",
   "execution_count": 44,
   "metadata": {},
   "outputs": [],
   "source": [
    "import tensorflow as tf"
   ]
  },
  {
   "cell_type": "code",
   "execution_count": 46,
   "metadata": {},
   "outputs": [],
   "source": [
    "feature_columns=[]\n",
    "\n",
    "for col in cat_features:\n",
    "    vocabs = dttrain[col].unique()\n",
    "    feature_columns.append(tf.feature_column.categorical_column_with_vocabulary_list(col, vocabs))\n",
    "    \n",
    "for col in num_features:\n",
    "    feature_columns.append(tf.feature_column.numeric_column(col, dtype=tf.float32))"
   ]
  },
  {
   "cell_type": "code",
   "execution_count": 47,
   "metadata": {},
   "outputs": [
    {
     "data": {
      "text/plain": [
       "[VocabularyListCategoricalColumn(key='sex', vocabulary_list=('male', 'female'), dtype=tf.string, default_value=-1, num_oov_buckets=0),\n",
       " VocabularyListCategoricalColumn(key='embark_town', vocabulary_list=('Southampton', 'Cherbourg', 'Queenstown', 'unknown'), dtype=tf.string, default_value=-1, num_oov_buckets=0),\n",
       " VocabularyListCategoricalColumn(key='class', vocabulary_list=('Third', 'First', 'Second'), dtype=tf.string, default_value=-1, num_oov_buckets=0),\n",
       " VocabularyListCategoricalColumn(key='deck', vocabulary_list=('unknown', 'C', 'G', 'A', 'B', 'D', 'F', 'E'), dtype=tf.string, default_value=-1, num_oov_buckets=0),\n",
       " VocabularyListCategoricalColumn(key='alone', vocabulary_list=('n', 'y'), dtype=tf.string, default_value=-1, num_oov_buckets=0),\n",
       " VocabularyListCategoricalColumn(key='n_siblings_spouses', vocabulary_list=(1, 0, 3, 4, 2, 5, 8), dtype=tf.int64, default_value=-1, num_oov_buckets=0),\n",
       " VocabularyListCategoricalColumn(key='parch', vocabulary_list=(0, 1, 2, 5, 3, 4), dtype=tf.int64, default_value=-1, num_oov_buckets=0),\n",
       " NumericColumn(key='age', shape=(1,), default_value=None, dtype=tf.float32, normalizer_fn=None),\n",
       " NumericColumn(key='fare', shape=(1,), default_value=None, dtype=tf.float32, normalizer_fn=None)]"
      ]
     },
     "execution_count": 47,
     "metadata": {},
     "output_type": "execute_result"
    }
   ],
   "source": [
    "feature_columns"
   ]
  },
  {
   "cell_type": "code",
   "execution_count": 65,
   "metadata": {},
   "outputs": [],
   "source": [
    "a=dict(dttrain)"
   ]
  },
  {
   "cell_type": "code",
   "execution_count": 67,
   "metadata": {},
   "outputs": [
    {
     "data": {
      "text/plain": [
       "0        male\n",
       "1      female\n",
       "2      female\n",
       "3      female\n",
       "4        male\n",
       "        ...  \n",
       "622      male\n",
       "623      male\n",
       "624    female\n",
       "625    female\n",
       "626      male\n",
       "Name: sex, Length: 627, dtype: object"
      ]
     },
     "execution_count": 67,
     "metadata": {},
     "output_type": "execute_result"
    }
   ],
   "source": [
    "a[\"sex\"]"
   ]
  },
  {
   "cell_type": "markdown",
   "metadata": {},
   "source": [
    "### making an input function"
   ]
  },
  {
   "cell_type": "code",
   "execution_count": 59,
   "metadata": {},
   "outputs": [],
   "source": [
    "def make_input_function(xdata, xlabels, shuffle=True, epochs=30,batch_size=32):\n",
    "    def input_function():\n",
    "        dt = tf.data.Dataset.from_tensor_slices((dict(xdata),xlabels))\n",
    "        \n",
    "        if shuffle:\n",
    "            dt= dt.shuffle(1000)\n",
    "        dt = dt.batch(batch_size).repeat(epochs)\n",
    "        return dt\n",
    "    return input_function\n"
   ]
  },
  {
   "cell_type": "code",
   "execution_count": 60,
   "metadata": {},
   "outputs": [],
   "source": [
    "## now convert train and test data to tensor objects\n",
    "\n",
    "train_data = make_input_function(dttrain,Y_train)\n",
    "eval_data = make_input_function(dteval, Y_eval, shuffle=False, epochs=1)"
   ]
  },
  {
   "cell_type": "code",
   "execution_count": 61,
   "metadata": {},
   "outputs": [
    {
     "name": "stdout",
     "output_type": "stream",
     "text": [
      "INFO:tensorflow:Using default config.\n",
      "WARNING:tensorflow:Using temporary folder as model directory: C:\\Users\\vamsee\\AppData\\Local\\Temp\\tmpk_r8tli5\n",
      "INFO:tensorflow:Using config: {'_model_dir': 'C:\\\\Users\\\\vamsee\\\\AppData\\\\Local\\\\Temp\\\\tmpk_r8tli5', '_tf_random_seed': None, '_save_summary_steps': 100, '_save_checkpoints_steps': None, '_save_checkpoints_secs': 600, '_session_config': allow_soft_placement: true\n",
      "graph_options {\n",
      "  rewrite_options {\n",
      "    meta_optimizer_iterations: ONE\n",
      "  }\n",
      "}\n",
      ", '_keep_checkpoint_max': 5, '_keep_checkpoint_every_n_hours': 10000, '_log_step_count_steps': 100, '_train_distribute': None, '_device_fn': None, '_protocol': None, '_eval_distribute': None, '_experimental_distribute': None, '_experimental_max_worker_delay_secs': None, '_session_creation_timeout_secs': 7200, '_checkpoint_save_graph_def': True, '_service': None, '_cluster_spec': ClusterSpec({}), '_task_type': 'worker', '_task_id': 0, '_global_id_in_cluster': 0, '_master': '', '_evaluation_master': '', '_is_chief': True, '_num_ps_replicas': 0, '_num_worker_replicas': 1}\n"
     ]
    }
   ],
   "source": [
    "## create a linear regression model as below\n",
    "\n",
    "model = tf.estimator.LinearClassifier(feature_columns=feature_columns)"
   ]
  },
  {
   "cell_type": "code",
   "execution_count": 62,
   "metadata": {},
   "outputs": [
    {
     "name": "stdout",
     "output_type": "stream",
     "text": [
      "INFO:tensorflow:Calling model_fn.\n"
     ]
    },
    {
     "name": "stderr",
     "output_type": "stream",
     "text": [
      "C:\\Users\\vamsee\\AppData\\Roaming\\Python\\Python38\\site-packages\\tensorflow\\python\\keras\\engine\\base_layer_v1.py:1700: UserWarning: `layer.add_variable` is deprecated and will be removed in a future version. Please use `layer.add_weight` method instead.\n",
      "  warnings.warn('`layer.add_variable` is deprecated and '\n"
     ]
    },
    {
     "name": "stdout",
     "output_type": "stream",
     "text": [
      "INFO:tensorflow:Done calling model_fn.\n",
      "INFO:tensorflow:Create CheckpointSaverHook.\n",
      "INFO:tensorflow:Graph was finalized.\n",
      "INFO:tensorflow:Running local_init_op.\n",
      "INFO:tensorflow:Done running local_init_op.\n",
      "INFO:tensorflow:Calling checkpoint listeners before saving checkpoint 0...\n",
      "INFO:tensorflow:Saving checkpoints for 0 into C:\\Users\\vamsee\\AppData\\Local\\Temp\\tmpk_r8tli5\\model.ckpt.\n",
      "INFO:tensorflow:Calling checkpoint listeners after saving checkpoint 0...\n",
      "INFO:tensorflow:loss = 0.6931472, step = 0\n",
      "INFO:tensorflow:global_step/sec: 329.192\n",
      "INFO:tensorflow:loss = 0.39349505, step = 100 (0.304 sec)\n",
      "INFO:tensorflow:global_step/sec: 678.031\n",
      "INFO:tensorflow:loss = 0.5985456, step = 200 (0.147 sec)\n",
      "INFO:tensorflow:global_step/sec: 633.94\n",
      "INFO:tensorflow:loss = 0.28492147, step = 300 (0.158 sec)\n",
      "INFO:tensorflow:global_step/sec: 641.454\n",
      "INFO:tensorflow:loss = 0.49289858, step = 400 (0.156 sec)\n",
      "INFO:tensorflow:global_step/sec: 631.03\n",
      "INFO:tensorflow:loss = 0.3964571, step = 500 (0.158 sec)\n",
      "INFO:tensorflow:Calling checkpoint listeners before saving checkpoint 600...\n",
      "INFO:tensorflow:Saving checkpoints for 600 into C:\\Users\\vamsee\\AppData\\Local\\Temp\\tmpk_r8tli5\\model.ckpt.\n",
      "INFO:tensorflow:Calling checkpoint listeners after saving checkpoint 600...\n",
      "INFO:tensorflow:Loss for final step: 0.40434402.\n",
      "INFO:tensorflow:Calling model_fn.\n",
      "INFO:tensorflow:Done calling model_fn.\n",
      "INFO:tensorflow:Starting evaluation at 2022-02-03T19:19:10\n",
      "INFO:tensorflow:Graph was finalized.\n",
      "INFO:tensorflow:Restoring parameters from C:\\Users\\vamsee\\AppData\\Local\\Temp\\tmpk_r8tli5\\model.ckpt-600\n",
      "INFO:tensorflow:Running local_init_op.\n",
      "INFO:tensorflow:Done running local_init_op.\n",
      "INFO:tensorflow:Inference Time : 0.54280s\n",
      "INFO:tensorflow:Finished evaluation at 2022-02-03-19:19:10\n",
      "INFO:tensorflow:Saving dict for global step 600: accuracy = 0.7613636, accuracy_baseline = 0.625, auc = 0.83899605, auc_precision_recall = 0.7793656, average_loss = 0.47823533, global_step = 600, label/mean = 0.375, loss = 0.46503198, precision = 0.7, prediction/mean = 0.33532432, recall = 0.6363636\n",
      "INFO:tensorflow:Saving 'checkpoint_path' summary for global step 600: C:\\Users\\vamsee\\AppData\\Local\\Temp\\tmpk_r8tli5\\model.ckpt-600\n"
     ]
    }
   ],
   "source": [
    "model.train(train_data)\n",
    "result = model.evaluate(eval_data)"
   ]
  },
  {
   "cell_type": "code",
   "execution_count": 63,
   "metadata": {},
   "outputs": [
    {
     "data": {
      "text/plain": [
       "{'accuracy': 0.7613636,\n",
       " 'accuracy_baseline': 0.625,\n",
       " 'auc': 0.83899605,\n",
       " 'auc_precision_recall': 0.7793656,\n",
       " 'average_loss': 0.47823533,\n",
       " 'label/mean': 0.375,\n",
       " 'loss': 0.46503198,\n",
       " 'precision': 0.7,\n",
       " 'prediction/mean': 0.33532432,\n",
       " 'recall': 0.6363636,\n",
       " 'global_step': 600}"
      ]
     },
     "execution_count": 63,
     "metadata": {},
     "output_type": "execute_result"
    }
   ],
   "source": [
    "result"
   ]
  },
  {
   "cell_type": "code",
   "execution_count": 69,
   "metadata": {},
   "outputs": [
    {
     "name": "stdout",
     "output_type": "stream",
     "text": [
      "INFO:tensorflow:Calling model_fn.\n"
     ]
    },
    {
     "name": "stderr",
     "output_type": "stream",
     "text": [
      "C:\\Users\\vamsee\\AppData\\Roaming\\Python\\Python38\\site-packages\\tensorflow\\python\\keras\\engine\\base_layer_v1.py:1700: UserWarning: `layer.add_variable` is deprecated and will be removed in a future version. Please use `layer.add_weight` method instead.\n",
      "  warnings.warn('`layer.add_variable` is deprecated and '\n"
     ]
    },
    {
     "name": "stdout",
     "output_type": "stream",
     "text": [
      "INFO:tensorflow:Done calling model_fn.\n",
      "INFO:tensorflow:Graph was finalized.\n",
      "INFO:tensorflow:Restoring parameters from C:\\Users\\vamsee\\AppData\\Local\\Temp\\tmpk_r8tli5\\model.ckpt-600\n",
      "INFO:tensorflow:Running local_init_op.\n",
      "INFO:tensorflow:Done running local_init_op.\n"
     ]
    }
   ],
   "source": [
    "## now predict the result \n",
    "\n",
    "result =list( model.predict(eval_data))"
   ]
  },
  {
   "cell_type": "code",
   "execution_count": 89,
   "metadata": {},
   "outputs": [
    {
     "name": "stdout",
     "output_type": "stream",
     "text": [
      "sex                          male\n",
      "age                            35\n",
      "n_siblings_spouses              0\n",
      "parch                           0\n",
      "fare                         8.05\n",
      "class                       Third\n",
      "deck                      unknown\n",
      "embark_town           Southampton\n",
      "alone                           y\n",
      "Name: 0, dtype: object\n",
      "the probability of surviving is 0.03553919866681099\n",
      "_________________\n",
      "sex                          male\n",
      "age                            54\n",
      "n_siblings_spouses              0\n",
      "parch                           0\n",
      "fare                      51.8625\n",
      "class                       First\n",
      "deck                            E\n",
      "embark_town           Southampton\n",
      "alone                           y\n",
      "Name: 1, dtype: object\n",
      "the probability of surviving is 0.2634845972061157\n",
      "_________________\n",
      "sex                        female\n",
      "age                            58\n",
      "n_siblings_spouses              0\n",
      "parch                           0\n",
      "fare                        26.55\n",
      "class                       First\n",
      "deck                            C\n",
      "embark_town           Southampton\n",
      "alone                           y\n",
      "Name: 2, dtype: object\n",
      "the probability of surviving is 0.5208072662353516\n",
      "_________________\n",
      "sex                        female\n",
      "age                            55\n",
      "n_siblings_spouses              0\n",
      "parch                           0\n",
      "fare                           16\n",
      "class                      Second\n",
      "deck                      unknown\n",
      "embark_town           Southampton\n",
      "alone                           y\n",
      "Name: 3, dtype: object\n",
      "the probability of surviving is 0.3756577670574188\n",
      "_________________\n",
      "sex                          male\n",
      "age                            34\n",
      "n_siblings_spouses              0\n",
      "parch                           0\n",
      "fare                           13\n",
      "class                      Second\n",
      "deck                            D\n",
      "embark_town           Southampton\n",
      "alone                           y\n",
      "Name: 4, dtype: object\n",
      "the probability of surviving is 0.1613146811723709\n",
      "_________________\n",
      "sex                       female\n",
      "age                           15\n",
      "n_siblings_spouses             0\n",
      "parch                          0\n",
      "fare                      8.0292\n",
      "class                      Third\n",
      "deck                     unknown\n",
      "embark_town           Queenstown\n",
      "alone                          y\n",
      "Name: 5, dtype: object\n",
      "the probability of surviving is 0.7188625931739807\n",
      "_________________\n",
      "sex                        female\n",
      "age                             8\n",
      "n_siblings_spouses              3\n",
      "parch                           1\n",
      "fare                       21.075\n",
      "class                       Third\n",
      "deck                      unknown\n",
      "embark_town           Southampton\n",
      "alone                           n\n",
      "Name: 6, dtype: object\n",
      "the probability of surviving is 0.46700742840766907\n",
      "_________________\n",
      "sex                          male\n",
      "age                            21\n",
      "n_siblings_spouses              0\n",
      "parch                           0\n",
      "fare                         8.05\n",
      "class                       Third\n",
      "deck                      unknown\n",
      "embark_town           Southampton\n",
      "alone                           y\n",
      "Name: 7, dtype: object\n",
      "the probability of surviving is 0.07103745639324188\n",
      "_________________\n",
      "sex                        female\n",
      "age                            18\n",
      "n_siblings_spouses              2\n",
      "parch                           0\n",
      "fare                           18\n",
      "class                       Third\n",
      "deck                      unknown\n",
      "embark_town           Southampton\n",
      "alone                           n\n",
      "Name: 8, dtype: object\n",
      "the probability of surviving is 0.5585465431213379\n",
      "_________________\n",
      "sex                       female\n",
      "age                           19\n",
      "n_siblings_spouses             0\n",
      "parch                          0\n",
      "fare                      7.8792\n",
      "class                      Third\n",
      "deck                     unknown\n",
      "embark_town           Queenstown\n",
      "alone                          y\n",
      "Name: 9, dtype: object\n",
      "the probability of surviving is 0.6745443344116211\n",
      "_________________\n"
     ]
    }
   ],
   "source": [
    "for i in range(10):\n",
    "    print(dteval.loc[i])\n",
    "    print(\"the probability of surviving is {}\".format(result[i]['probabilities'][1]))\n",
    "    print(\"_________________\")"
   ]
  },
  {
   "cell_type": "code",
   "execution_count": null,
   "metadata": {},
   "outputs": [],
   "source": []
  },
  {
   "cell_type": "code",
   "execution_count": null,
   "metadata": {},
   "outputs": [],
   "source": []
  },
  {
   "cell_type": "code",
   "execution_count": null,
   "metadata": {},
   "outputs": [],
   "source": []
  },
  {
   "cell_type": "code",
   "execution_count": 1,
   "metadata": {},
   "outputs": [],
   "source": [
    "## quick tensorflow implementation\n",
    "\n",
    "import tensorflow as tf\n",
    "import pandas as pd\n",
    "import numpy as np\n",
    "import seaborn as sns\n",
    "import matplotlib.pyplot as plt\n"
   ]
  },
  {
   "cell_type": "code",
   "execution_count": 24,
   "metadata": {},
   "outputs": [],
   "source": [
    "train_data = pd.read_csv(\"https://storage.googleapis.com/tf-datasets/titanic/train.csv\")\n",
    "eval_data = pd.read_csv(\"https://storage.googleapis.com/tf-datasets/titanic/eval.csv\")"
   ]
  },
  {
   "cell_type": "code",
   "execution_count": 25,
   "metadata": {},
   "outputs": [
    {
     "data": {
      "text/html": [
       "<div>\n",
       "<style scoped>\n",
       "    .dataframe tbody tr th:only-of-type {\n",
       "        vertical-align: middle;\n",
       "    }\n",
       "\n",
       "    .dataframe tbody tr th {\n",
       "        vertical-align: top;\n",
       "    }\n",
       "\n",
       "    .dataframe thead th {\n",
       "        text-align: right;\n",
       "    }\n",
       "</style>\n",
       "<table border=\"1\" class=\"dataframe\">\n",
       "  <thead>\n",
       "    <tr style=\"text-align: right;\">\n",
       "      <th></th>\n",
       "      <th>survived</th>\n",
       "      <th>sex</th>\n",
       "      <th>age</th>\n",
       "      <th>n_siblings_spouses</th>\n",
       "      <th>parch</th>\n",
       "      <th>fare</th>\n",
       "      <th>class</th>\n",
       "      <th>deck</th>\n",
       "      <th>embark_town</th>\n",
       "      <th>alone</th>\n",
       "    </tr>\n",
       "  </thead>\n",
       "  <tbody>\n",
       "    <tr>\n",
       "      <th>0</th>\n",
       "      <td>0</td>\n",
       "      <td>male</td>\n",
       "      <td>22.0</td>\n",
       "      <td>1</td>\n",
       "      <td>0</td>\n",
       "      <td>7.2500</td>\n",
       "      <td>Third</td>\n",
       "      <td>unknown</td>\n",
       "      <td>Southampton</td>\n",
       "      <td>n</td>\n",
       "    </tr>\n",
       "    <tr>\n",
       "      <th>1</th>\n",
       "      <td>1</td>\n",
       "      <td>female</td>\n",
       "      <td>38.0</td>\n",
       "      <td>1</td>\n",
       "      <td>0</td>\n",
       "      <td>71.2833</td>\n",
       "      <td>First</td>\n",
       "      <td>C</td>\n",
       "      <td>Cherbourg</td>\n",
       "      <td>n</td>\n",
       "    </tr>\n",
       "    <tr>\n",
       "      <th>2</th>\n",
       "      <td>1</td>\n",
       "      <td>female</td>\n",
       "      <td>26.0</td>\n",
       "      <td>0</td>\n",
       "      <td>0</td>\n",
       "      <td>7.9250</td>\n",
       "      <td>Third</td>\n",
       "      <td>unknown</td>\n",
       "      <td>Southampton</td>\n",
       "      <td>y</td>\n",
       "    </tr>\n",
       "    <tr>\n",
       "      <th>3</th>\n",
       "      <td>1</td>\n",
       "      <td>female</td>\n",
       "      <td>35.0</td>\n",
       "      <td>1</td>\n",
       "      <td>0</td>\n",
       "      <td>53.1000</td>\n",
       "      <td>First</td>\n",
       "      <td>C</td>\n",
       "      <td>Southampton</td>\n",
       "      <td>n</td>\n",
       "    </tr>\n",
       "    <tr>\n",
       "      <th>4</th>\n",
       "      <td>0</td>\n",
       "      <td>male</td>\n",
       "      <td>28.0</td>\n",
       "      <td>0</td>\n",
       "      <td>0</td>\n",
       "      <td>8.4583</td>\n",
       "      <td>Third</td>\n",
       "      <td>unknown</td>\n",
       "      <td>Queenstown</td>\n",
       "      <td>y</td>\n",
       "    </tr>\n",
       "  </tbody>\n",
       "</table>\n",
       "</div>"
      ],
      "text/plain": [
       "   survived     sex   age  n_siblings_spouses  parch     fare  class     deck  \\\n",
       "0         0    male  22.0                   1      0   7.2500  Third  unknown   \n",
       "1         1  female  38.0                   1      0  71.2833  First        C   \n",
       "2         1  female  26.0                   0      0   7.9250  Third  unknown   \n",
       "3         1  female  35.0                   1      0  53.1000  First        C   \n",
       "4         0    male  28.0                   0      0   8.4583  Third  unknown   \n",
       "\n",
       "   embark_town alone  \n",
       "0  Southampton     n  \n",
       "1    Cherbourg     n  \n",
       "2  Southampton     y  \n",
       "3  Southampton     n  \n",
       "4   Queenstown     y  "
      ]
     },
     "execution_count": 25,
     "metadata": {},
     "output_type": "execute_result"
    }
   ],
   "source": [
    "train_data.head()"
   ]
  },
  {
   "cell_type": "code",
   "execution_count": 26,
   "metadata": {},
   "outputs": [],
   "source": [
    "Y_train = train_data.pop(\"survived\")\n",
    "Y_eval = eval_data.pop(\"survived\")"
   ]
  },
  {
   "cell_type": "code",
   "execution_count": 27,
   "metadata": {},
   "outputs": [
    {
     "data": {
      "text/html": [
       "<div>\n",
       "<style scoped>\n",
       "    .dataframe tbody tr th:only-of-type {\n",
       "        vertical-align: middle;\n",
       "    }\n",
       "\n",
       "    .dataframe tbody tr th {\n",
       "        vertical-align: top;\n",
       "    }\n",
       "\n",
       "    .dataframe thead th {\n",
       "        text-align: right;\n",
       "    }\n",
       "</style>\n",
       "<table border=\"1\" class=\"dataframe\">\n",
       "  <thead>\n",
       "    <tr style=\"text-align: right;\">\n",
       "      <th></th>\n",
       "      <th>sex</th>\n",
       "      <th>age</th>\n",
       "      <th>n_siblings_spouses</th>\n",
       "      <th>parch</th>\n",
       "      <th>fare</th>\n",
       "      <th>class</th>\n",
       "      <th>deck</th>\n",
       "      <th>embark_town</th>\n",
       "      <th>alone</th>\n",
       "    </tr>\n",
       "  </thead>\n",
       "  <tbody>\n",
       "    <tr>\n",
       "      <th>0</th>\n",
       "      <td>male</td>\n",
       "      <td>22.0</td>\n",
       "      <td>1</td>\n",
       "      <td>0</td>\n",
       "      <td>7.2500</td>\n",
       "      <td>Third</td>\n",
       "      <td>unknown</td>\n",
       "      <td>Southampton</td>\n",
       "      <td>n</td>\n",
       "    </tr>\n",
       "    <tr>\n",
       "      <th>1</th>\n",
       "      <td>female</td>\n",
       "      <td>38.0</td>\n",
       "      <td>1</td>\n",
       "      <td>0</td>\n",
       "      <td>71.2833</td>\n",
       "      <td>First</td>\n",
       "      <td>C</td>\n",
       "      <td>Cherbourg</td>\n",
       "      <td>n</td>\n",
       "    </tr>\n",
       "  </tbody>\n",
       "</table>\n",
       "</div>"
      ],
      "text/plain": [
       "      sex   age  n_siblings_spouses  parch     fare  class     deck  \\\n",
       "0    male  22.0                   1      0   7.2500  Third  unknown   \n",
       "1  female  38.0                   1      0  71.2833  First        C   \n",
       "\n",
       "   embark_town alone  \n",
       "0  Southampton     n  \n",
       "1    Cherbourg     n  "
      ]
     },
     "execution_count": 27,
     "metadata": {},
     "output_type": "execute_result"
    }
   ],
   "source": [
    "train_data.head(2)"
   ]
  },
  {
   "cell_type": "code",
   "execution_count": 28,
   "metadata": {},
   "outputs": [],
   "source": [
    "cat_columns =[\"sex\",\"class\",\"deck\",\"embark_town\",\"alone\",\"n_siblings_spouses\",\"parch\"]\n",
    "num_columns=[\"age\",\"fare\"]"
   ]
  },
  {
   "cell_type": "code",
   "execution_count": 37,
   "metadata": {},
   "outputs": [],
   "source": [
    "input_features=[]\n",
    "\n",
    "for col in cat_columns:\n",
    "    uniq_vals=train_data[col].unique()\n",
    "    input_features.append(tf.feature_column.categorical_column_with_vocabulary_list(col,uniq_vals))\n",
    "\n",
    "for col in num_columns:\n",
    "    input_features.append(tf.feature_column.numeric_column(col, dtype=tf.float64))"
   ]
  },
  {
   "cell_type": "code",
   "execution_count": 38,
   "metadata": {},
   "outputs": [
    {
     "data": {
      "text/plain": [
       "[VocabularyListCategoricalColumn(key='sex', vocabulary_list=('male', 'female'), dtype=tf.string, default_value=-1, num_oov_buckets=0),\n",
       " VocabularyListCategoricalColumn(key='class', vocabulary_list=('Third', 'First', 'Second'), dtype=tf.string, default_value=-1, num_oov_buckets=0),\n",
       " VocabularyListCategoricalColumn(key='deck', vocabulary_list=('unknown', 'C', 'G', 'A', 'B', 'D', 'F', 'E'), dtype=tf.string, default_value=-1, num_oov_buckets=0),\n",
       " VocabularyListCategoricalColumn(key='embark_town', vocabulary_list=('Southampton', 'Cherbourg', 'Queenstown', 'unknown'), dtype=tf.string, default_value=-1, num_oov_buckets=0),\n",
       " VocabularyListCategoricalColumn(key='alone', vocabulary_list=('n', 'y'), dtype=tf.string, default_value=-1, num_oov_buckets=0),\n",
       " VocabularyListCategoricalColumn(key='n_siblings_spouses', vocabulary_list=(1, 0, 3, 4, 2, 5, 8), dtype=tf.int64, default_value=-1, num_oov_buckets=0),\n",
       " VocabularyListCategoricalColumn(key='parch', vocabulary_list=(0, 1, 2, 5, 3, 4), dtype=tf.int64, default_value=-1, num_oov_buckets=0),\n",
       " NumericColumn(key='age', shape=(1,), default_value=None, dtype=tf.float64, normalizer_fn=None),\n",
       " NumericColumn(key='fare', shape=(1,), default_value=None, dtype=tf.float64, normalizer_fn=None)]"
      ]
     },
     "execution_count": 38,
     "metadata": {},
     "output_type": "execute_result"
    }
   ],
   "source": [
    "input_features"
   ]
  },
  {
   "cell_type": "code",
   "execution_count": 49,
   "metadata": {},
   "outputs": [],
   "source": [
    "### creating the tensor input function\n",
    "\n",
    "def make_input_function(features, label, epoches, batch_size, Shuffle=True):\n",
    "    def input_function():\n",
    "        ## create tensor slices\n",
    "        dt = tf.data.Dataset.from_tensor_slices((dict(features),label))\n",
    "        if Shuffle:\n",
    "            dt= dt.shuffle(1000)\n",
    "        dt = dt.batch(batch_size).repeat(epoches)\n",
    "        return dt\n",
    "    return input_function\n"
   ]
  },
  {
   "cell_type": "code",
   "execution_count": 44,
   "metadata": {},
   "outputs": [],
   "source": [
    "def make_input_function(xdata, xlabels, shuffle=True, epochs=30,batch_size=32):\n",
    "    def input_function():\n",
    "        dt = tf.data.Dataset.from_tensor_slices((dict(xdata),xlabels))\n",
    "        \n",
    "        if shuffle:\n",
    "            dt= dt.shuffle(1000)\n",
    "        dt = dt.batch(batch_size).repeat(epochs)\n",
    "        return dt\n",
    "    return input_function\n"
   ]
  },
  {
   "cell_type": "code",
   "execution_count": 50,
   "metadata": {},
   "outputs": [
    {
     "name": "stdout",
     "output_type": "stream",
     "text": [
      "INFO:tensorflow:Using default config.\n",
      "WARNING:tensorflow:Using temporary folder as model directory: C:\\Users\\vamsee\\AppData\\Local\\Temp\\tmpv656mv3x\n",
      "INFO:tensorflow:Using config: {'_model_dir': 'C:\\\\Users\\\\vamsee\\\\AppData\\\\Local\\\\Temp\\\\tmpv656mv3x', '_tf_random_seed': None, '_save_summary_steps': 100, '_save_checkpoints_steps': None, '_save_checkpoints_secs': 600, '_session_config': allow_soft_placement: true\n",
      "graph_options {\n",
      "  rewrite_options {\n",
      "    meta_optimizer_iterations: ONE\n",
      "  }\n",
      "}\n",
      ", '_keep_checkpoint_max': 5, '_keep_checkpoint_every_n_hours': 10000, '_log_step_count_steps': 100, '_train_distribute': None, '_device_fn': None, '_protocol': None, '_eval_distribute': None, '_experimental_distribute': None, '_experimental_max_worker_delay_secs': None, '_session_creation_timeout_secs': 7200, '_checkpoint_save_graph_def': True, '_service': None, '_cluster_spec': ClusterSpec({}), '_task_type': 'worker', '_task_id': 0, '_global_id_in_cluster': 0, '_master': '', '_evaluation_master': '', '_is_chief': True, '_num_ps_replicas': 0, '_num_worker_replicas': 1}\n"
     ]
    }
   ],
   "source": [
    "## create tensor model\n",
    "\n",
    "model = tf.estimator.LinearClassifier(feature_columns=input_features)"
   ]
  },
  {
   "cell_type": "code",
   "execution_count": 51,
   "metadata": {},
   "outputs": [],
   "source": [
    "train_input_func= make_input_function(train_data, Y_train, 10,1)\n",
    "eval_input_func= make_input_function(eval_data, Y_eval,1,1)"
   ]
  },
  {
   "cell_type": "code",
   "execution_count": 52,
   "metadata": {},
   "outputs": [
    {
     "data": {
      "text/plain": [
       "<function __main__.make_input_function.<locals>.input_function()>"
      ]
     },
     "execution_count": 52,
     "metadata": {},
     "output_type": "execute_result"
    }
   ],
   "source": [
    "train_input_func"
   ]
  },
  {
   "cell_type": "code",
   "execution_count": 53,
   "metadata": {},
   "outputs": [
    {
     "name": "stdout",
     "output_type": "stream",
     "text": [
      "INFO:tensorflow:Calling model_fn.\n",
      "INFO:tensorflow:Done calling model_fn.\n",
      "INFO:tensorflow:Create CheckpointSaverHook.\n",
      "INFO:tensorflow:Graph was finalized.\n",
      "INFO:tensorflow:Running local_init_op.\n",
      "INFO:tensorflow:Done running local_init_op.\n",
      "INFO:tensorflow:Calling checkpoint listeners before saving checkpoint 0...\n",
      "INFO:tensorflow:Saving checkpoints for 0 into C:\\Users\\vamsee\\AppData\\Local\\Temp\\tmpv656mv3x\\model.ckpt.\n",
      "INFO:tensorflow:Calling checkpoint listeners after saving checkpoint 0...\n",
      "INFO:tensorflow:loss = 0.6931472, step = 0\n",
      "INFO:tensorflow:global_step/sec: 265.683\n",
      "INFO:tensorflow:loss = 0.19037248, step = 100 (0.392 sec)\n",
      "INFO:tensorflow:global_step/sec: 493.087\n",
      "INFO:tensorflow:loss = 0.2696311, step = 200 (0.199 sec)\n",
      "INFO:tensorflow:global_step/sec: 457.067\n",
      "INFO:tensorflow:loss = 0.089249395, step = 300 (0.210 sec)\n",
      "INFO:tensorflow:global_step/sec: 489.431\n",
      "INFO:tensorflow:loss = 0.87969685, step = 400 (0.205 sec)\n",
      "INFO:tensorflow:global_step/sec: 463.984\n",
      "INFO:tensorflow:loss = 0.09359267, step = 500 (0.216 sec)\n",
      "INFO:tensorflow:global_step/sec: 451.87\n",
      "INFO:tensorflow:loss = 0.59853476, step = 600 (0.217 sec)\n",
      "INFO:tensorflow:global_step/sec: 450.633\n",
      "INFO:tensorflow:loss = 0.5345299, step = 700 (0.225 sec)\n",
      "INFO:tensorflow:global_step/sec: 455.067\n",
      "INFO:tensorflow:loss = 0.062022824, step = 800 (0.221 sec)\n",
      "INFO:tensorflow:global_step/sec: 457.727\n",
      "INFO:tensorflow:loss = 0.20452808, step = 900 (0.218 sec)\n",
      "INFO:tensorflow:global_step/sec: 473.5\n",
      "INFO:tensorflow:loss = 0.03198531, step = 1000 (0.207 sec)\n",
      "INFO:tensorflow:global_step/sec: 427.223\n",
      "INFO:tensorflow:loss = 1.3151321, step = 1100 (0.238 sec)\n",
      "INFO:tensorflow:global_step/sec: 457.685\n",
      "INFO:tensorflow:loss = 0.23088191, step = 1200 (0.218 sec)\n",
      "INFO:tensorflow:global_step/sec: 468.195\n",
      "INFO:tensorflow:loss = 0.26751292, step = 1300 (0.214 sec)\n",
      "INFO:tensorflow:global_step/sec: 445.207\n",
      "INFO:tensorflow:loss = 0.46890566, step = 1400 (0.224 sec)\n",
      "INFO:tensorflow:global_step/sec: 469.43\n",
      "INFO:tensorflow:loss = 0.07683039, step = 1500 (0.213 sec)\n",
      "INFO:tensorflow:global_step/sec: 503.043\n",
      "INFO:tensorflow:loss = 0.0930736, step = 1600 (0.198 sec)\n",
      "INFO:tensorflow:global_step/sec: 478.524\n",
      "INFO:tensorflow:loss = 1.5365028, step = 1700 (0.205 sec)\n",
      "INFO:tensorflow:global_step/sec: 475.231\n",
      "INFO:tensorflow:loss = 0.09498803, step = 1800 (0.214 sec)\n",
      "INFO:tensorflow:global_step/sec: 434.295\n",
      "INFO:tensorflow:loss = 0.057220504, step = 1900 (0.231 sec)\n",
      "INFO:tensorflow:global_step/sec: 475.812\n",
      "INFO:tensorflow:loss = 0.0680229, step = 2000 (0.210 sec)\n",
      "INFO:tensorflow:global_step/sec: 472.594\n",
      "INFO:tensorflow:loss = 0.044894237, step = 2100 (0.208 sec)\n",
      "INFO:tensorflow:global_step/sec: 459.131\n",
      "INFO:tensorflow:loss = 0.24227689, step = 2200 (0.218 sec)\n",
      "INFO:tensorflow:global_step/sec: 467.208\n",
      "INFO:tensorflow:loss = 0.10562337, step = 2300 (0.214 sec)\n",
      "INFO:tensorflow:global_step/sec: 460.394\n",
      "INFO:tensorflow:loss = 0.036534008, step = 2400 (0.219 sec)\n",
      "INFO:tensorflow:global_step/sec: 480.422\n",
      "INFO:tensorflow:loss = 0.02400767, step = 2500 (0.206 sec)\n",
      "INFO:tensorflow:global_step/sec: 409.821\n",
      "INFO:tensorflow:loss = 0.52439237, step = 2600 (0.248 sec)\n",
      "INFO:tensorflow:global_step/sec: 480.533\n",
      "INFO:tensorflow:loss = 0.03547958, step = 2700 (0.208 sec)\n",
      "INFO:tensorflow:global_step/sec: 444.551\n",
      "INFO:tensorflow:loss = 1.4819927, step = 2800 (0.225 sec)\n",
      "INFO:tensorflow:global_step/sec: 462.08\n",
      "INFO:tensorflow:loss = 0.10891385, step = 2900 (0.216 sec)\n",
      "INFO:tensorflow:global_step/sec: 454.39\n",
      "INFO:tensorflow:loss = 0.09514033, step = 3000 (0.220 sec)\n",
      "INFO:tensorflow:global_step/sec: 458.32\n",
      "INFO:tensorflow:loss = 2.5777605, step = 3100 (0.219 sec)\n",
      "INFO:tensorflow:global_step/sec: 420.361\n",
      "INFO:tensorflow:loss = 0.09132841, step = 3200 (0.236 sec)\n",
      "INFO:tensorflow:global_step/sec: 470.046\n",
      "INFO:tensorflow:loss = 0.17765865, step = 3300 (0.214 sec)\n",
      "INFO:tensorflow:global_step/sec: 456.999\n",
      "INFO:tensorflow:loss = 0.36031902, step = 3400 (0.219 sec)\n",
      "INFO:tensorflow:global_step/sec: 505.842\n",
      "INFO:tensorflow:loss = 0.03344222, step = 3500 (0.198 sec)\n",
      "INFO:tensorflow:global_step/sec: 468.225\n",
      "INFO:tensorflow:loss = 0.23261678, step = 3600 (0.214 sec)\n",
      "INFO:tensorflow:global_step/sec: 473.492\n",
      "INFO:tensorflow:loss = 0.78746927, step = 3700 (0.210 sec)\n",
      "INFO:tensorflow:global_step/sec: 436.795\n",
      "INFO:tensorflow:loss = 0.19934346, step = 3800 (0.230 sec)\n",
      "INFO:tensorflow:global_step/sec: 471.175\n",
      "INFO:tensorflow:loss = 1.1410366, step = 3900 (0.211 sec)\n",
      "INFO:tensorflow:global_step/sec: 445.811\n",
      "INFO:tensorflow:loss = 0.20098107, step = 4000 (0.223 sec)\n",
      "INFO:tensorflow:global_step/sec: 468.868\n",
      "INFO:tensorflow:loss = 0.049211945, step = 4100 (0.214 sec)\n",
      "INFO:tensorflow:global_step/sec: 457.893\n",
      "INFO:tensorflow:loss = 2.0432055, step = 4200 (0.219 sec)\n",
      "INFO:tensorflow:global_step/sec: 467.287\n",
      "INFO:tensorflow:loss = 0.25578588, step = 4300 (0.214 sec)\n",
      "INFO:tensorflow:global_step/sec: 500.663\n",
      "INFO:tensorflow:loss = 0.8202155, step = 4400 (0.214 sec)\n",
      "INFO:tensorflow:global_step/sec: 416.137\n",
      "INFO:tensorflow:loss = 0.31115788, step = 4500 (0.226 sec)\n",
      "INFO:tensorflow:global_step/sec: 449.517\n",
      "INFO:tensorflow:loss = 0.105232276, step = 4600 (0.224 sec)\n",
      "INFO:tensorflow:global_step/sec: 447.174\n",
      "INFO:tensorflow:loss = 0.1843271, step = 4700 (0.222 sec)\n",
      "INFO:tensorflow:global_step/sec: 461.721\n",
      "INFO:tensorflow:loss = 0.0590436, step = 4800 (0.217 sec)\n",
      "INFO:tensorflow:global_step/sec: 461.976\n",
      "INFO:tensorflow:loss = 1.3331181, step = 4900 (0.212 sec)\n",
      "INFO:tensorflow:global_step/sec: 492.021\n",
      "INFO:tensorflow:loss = 0.21690704, step = 5000 (0.205 sec)\n",
      "INFO:tensorflow:global_step/sec: 510.957\n",
      "INFO:tensorflow:loss = 0.27442083, step = 5100 (0.198 sec)\n",
      "INFO:tensorflow:global_step/sec: 495.365\n",
      "INFO:tensorflow:loss = 0.1830775, step = 5200 (0.202 sec)\n",
      "INFO:tensorflow:global_step/sec: 499.031\n",
      "INFO:tensorflow:loss = 0.5583649, step = 5300 (0.212 sec)\n",
      "INFO:tensorflow:global_step/sec: 439.419\n",
      "INFO:tensorflow:loss = 0.57806545, step = 5400 (0.212 sec)\n",
      "INFO:tensorflow:global_step/sec: 474.289\n",
      "INFO:tensorflow:loss = 0.08504396, step = 5500 (0.213 sec)\n",
      "INFO:tensorflow:global_step/sec: 611.965\n",
      "INFO:tensorflow:loss = 0.2061016, step = 5600 (0.161 sec)\n",
      "INFO:tensorflow:global_step/sec: 463.855\n",
      "INFO:tensorflow:loss = 0.075582445, step = 5700 (0.216 sec)\n",
      "INFO:tensorflow:global_step/sec: 461.031\n",
      "INFO:tensorflow:loss = 2.004928, step = 5800 (0.217 sec)\n",
      "INFO:tensorflow:global_step/sec: 431.557\n",
      "INFO:tensorflow:loss = 1.020657, step = 5900 (0.232 sec)\n",
      "INFO:tensorflow:global_step/sec: 429.401\n",
      "INFO:tensorflow:loss = 0.010458374, step = 6000 (0.237 sec)\n",
      "INFO:tensorflow:global_step/sec: 494.446\n",
      "INFO:tensorflow:loss = 1.1615053, step = 6100 (0.201 sec)\n",
      "INFO:tensorflow:global_step/sec: 535.127\n",
      "INFO:tensorflow:loss = 0.65551275, step = 6200 (0.188 sec)\n",
      "INFO:tensorflow:Calling checkpoint listeners before saving checkpoint 6270...\n",
      "INFO:tensorflow:Saving checkpoints for 6270 into C:\\Users\\vamsee\\AppData\\Local\\Temp\\tmpv656mv3x\\model.ckpt.\n",
      "INFO:tensorflow:Calling checkpoint listeners after saving checkpoint 6270...\n",
      "INFO:tensorflow:Loss for final step: 0.13079077.\n"
     ]
    },
    {
     "data": {
      "text/plain": [
       "<tensorflow_estimator.python.estimator.canned.linear.LinearClassifierV2 at 0x2a6ffcd6a00>"
      ]
     },
     "execution_count": 53,
     "metadata": {},
     "output_type": "execute_result"
    }
   ],
   "source": [
    "model.train(train_input_func)"
   ]
  },
  {
   "cell_type": "code",
   "execution_count": 54,
   "metadata": {},
   "outputs": [
    {
     "name": "stdout",
     "output_type": "stream",
     "text": [
      "INFO:tensorflow:Calling model_fn.\n"
     ]
    },
    {
     "name": "stderr",
     "output_type": "stream",
     "text": [
      "C:\\Users\\vamsee\\AppData\\Roaming\\Python\\Python38\\site-packages\\tensorflow\\python\\keras\\engine\\base_layer_v1.py:1700: UserWarning: `layer.add_variable` is deprecated and will be removed in a future version. Please use `layer.add_weight` method instead.\n",
      "  warnings.warn('`layer.add_variable` is deprecated and '\n"
     ]
    },
    {
     "name": "stdout",
     "output_type": "stream",
     "text": [
      "INFO:tensorflow:Done calling model_fn.\n",
      "INFO:tensorflow:Starting evaluation at 2022-02-04T09:58:16\n",
      "INFO:tensorflow:Graph was finalized.\n",
      "INFO:tensorflow:Restoring parameters from C:\\Users\\vamsee\\AppData\\Local\\Temp\\tmpv656mv3x\\model.ckpt-6270\n",
      "INFO:tensorflow:Running local_init_op.\n",
      "INFO:tensorflow:Done running local_init_op.\n",
      "INFO:tensorflow:Inference Time : 1.41552s\n",
      "INFO:tensorflow:Finished evaluation at 2022-02-04-09:58:17\n",
      "INFO:tensorflow:Saving dict for global step 6270: accuracy = 0.7689394, accuracy_baseline = 0.625, auc = 0.83783287, auc_precision_recall = 0.7852539, average_loss = 0.48039073, global_step = 6270, label/mean = 0.375, loss = 0.48039073, precision = 0.6792453, prediction/mean = 0.41788626, recall = 0.72727275\n",
      "INFO:tensorflow:Saving 'checkpoint_path' summary for global step 6270: C:\\Users\\vamsee\\AppData\\Local\\Temp\\tmpv656mv3x\\model.ckpt-6270\n"
     ]
    }
   ],
   "source": [
    "res = model.evaluate(eval_input_func)"
   ]
  },
  {
   "cell_type": "code",
   "execution_count": 57,
   "metadata": {},
   "outputs": [
    {
     "name": "stdout",
     "output_type": "stream",
     "text": [
      "INFO:tensorflow:Calling model_fn.\n"
     ]
    },
    {
     "name": "stderr",
     "output_type": "stream",
     "text": [
      "C:\\Users\\vamsee\\AppData\\Roaming\\Python\\Python38\\site-packages\\tensorflow\\python\\keras\\engine\\base_layer_v1.py:1700: UserWarning: `layer.add_variable` is deprecated and will be removed in a future version. Please use `layer.add_weight` method instead.\n",
      "  warnings.warn('`layer.add_variable` is deprecated and '\n"
     ]
    },
    {
     "name": "stdout",
     "output_type": "stream",
     "text": [
      "INFO:tensorflow:Done calling model_fn.\n",
      "INFO:tensorflow:Graph was finalized.\n",
      "INFO:tensorflow:Restoring parameters from C:\\Users\\vamsee\\AppData\\Local\\Temp\\tmpv656mv3x\\model.ckpt-6270\n",
      "INFO:tensorflow:Running local_init_op.\n",
      "INFO:tensorflow:Done running local_init_op.\n"
     ]
    }
   ],
   "source": [
    "res = list(model.predict(eval_input_func))"
   ]
  },
  {
   "cell_type": "code",
   "execution_count": 64,
   "metadata": {},
   "outputs": [
    {
     "name": "stdout",
     "output_type": "stream",
     "text": [
      "sex                          male\n",
      "age                            35\n",
      "n_siblings_spouses              0\n",
      "parch                           0\n",
      "fare                         8.05\n",
      "class                       Third\n",
      "deck                      unknown\n",
      "embark_town           Southampton\n",
      "alone                           y\n",
      "Name: 0, dtype: object\n",
      "0.081491485\n",
      "0\n"
     ]
    }
   ],
   "source": [
    "print(eval_data.loc[0])\n",
    "print(res[0][\"probabilities\"][1])\n",
    "print(Y_eval.loc[0])"
   ]
  },
  {
   "cell_type": "code",
   "execution_count": 66,
   "metadata": {},
   "outputs": [
    {
     "data": {
      "text/plain": [
       "1.0"
      ]
     },
     "execution_count": 66,
     "metadata": {},
     "output_type": "execute_result"
    }
   ],
   "source": [
    "np.ceil(res[0][\"probabilities\"][1])"
   ]
  },
  {
   "cell_type": "code",
   "execution_count": null,
   "metadata": {},
   "outputs": [],
   "source": [
    "pos_counter=0\n",
    "neg_counter=0\n",
    "for i in range(len(eval_data)):\n",
    "    if "
   ]
  }
 ],
 "metadata": {
  "kernelspec": {
   "display_name": "Python 3",
   "language": "python",
   "name": "python3"
  },
  "language_info": {
   "codemirror_mode": {
    "name": "ipython",
    "version": 3
   },
   "file_extension": ".py",
   "mimetype": "text/x-python",
   "name": "python",
   "nbconvert_exporter": "python",
   "pygments_lexer": "ipython3",
   "version": "3.8.5"
  }
 },
 "nbformat": 4,
 "nbformat_minor": 4
}
